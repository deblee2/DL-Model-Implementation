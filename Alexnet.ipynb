{
  "nbformat": 4,
  "nbformat_minor": 0,
  "metadata": {
    "colab": {
      "name": "Alexnet.ipynb",
      "provenance": []
    },
    "kernelspec": {
      "name": "python3",
      "display_name": "Python 3"
    }
  },
  "cells": [
    {
      "cell_type": "markdown",
      "metadata": {
        "id": "_Ejc18emmp02"
      },
      "source": [
        "Alexnet implementation"
      ]
    },
    {
      "cell_type": "code",
      "metadata": {
        "id": "wvTA73GrAqw2"
      },
      "source": [
        "import numpy as np\r\n",
        "import tensorflow as tf\r\n",
        "\r\n",
        "from keras.utils import np_utils\r\n",
        "from tensorflow.keras.models import Sequential\r\n",
        "from tensorflow.keras.layers import Dense, Flatten, Conv2D, MaxPooling2D\r\n",
        "\r\n",
        "#seed value\r\n",
        "seed = 0\r\n",
        "np.random.seed(seed)\r\n",
        "tf.random.set_seed(3)\r\n",
        "\r\n",
        "#import data\r\n",
        "mnist = tf.keras.datasets.mnist\r\n",
        "(train_images, train_labels), (test_images, test_labels) = mnist.load_data()\r\n",
        "X_train = train_images\r\n",
        "Y_train = train_labels\r\n",
        "X_test = test_images\r\n",
        "Y_test = test_labels\r\n",
        "\r\n",
        "#reshape data\r\n",
        "X_train = X_train.reshape(X_train.shape[0], 28, 28, 1).astype('float32')/255\r\n",
        "X_test = X_test.reshape(X_test.shape[0], 28, 28, 1).astype('float32')/255\r\n",
        "\r\n",
        "#one-hot encoding\r\n",
        "Y_train = np_utils.to_categorical(Y_train, 10)\r\n",
        "Y_test = np_utils.to_categorical(Y_test, 10)"
      ],
      "execution_count": 6,
      "outputs": []
    },
    {
      "cell_type": "code",
      "metadata": {
        "colab": {
          "base_uri": "https://localhost:8080/"
        },
        "id": "NqvG5-KKLvfB",
        "outputId": "47b1b7f1-00ff-4556-e847-67d8e538b66b"
      },
      "source": [
        "#set model\r\n",
        "model = Sequential()\r\n",
        "model.add(Conv2D(28, kernel_size=(5, 5), input_shape=(28, 28, 1), activation='relu'))\r\n",
        "model.add(MaxPooling2D(pool_size=2))\r\n",
        "model.add(Conv2D(20, (5, 5), activation='relu'))\r\n",
        "model.add(MaxPooling2D(pool_size=2))\r\n",
        "model.add(Flatten())\r\n",
        "model.add(Dense(127, activation='relu'))\r\n",
        "model.add(Dense(10, activation='softmax'))\r\n",
        "\r\n",
        "model.summary()\r\n",
        "\r\n",
        "#optimize model\r\n",
        "from tensorflow.keras.callbacks import EarlyStopping\r\n",
        "early_stopping_callback = EarlyStopping(monitor='val_loss', patience=10)\r\n",
        "\r\n",
        "#compile model\r\n",
        "model.compile(loss='categorical_crossentropy', optimizer=tf.keras.optimizers.Adam(learning_rate=0.001), metrics=['accuracy'])\r\n",
        "\r\n",
        "#train model\r\n",
        "model.fit(X_train, Y_train, validation_data= (X_test, Y_test), epochs=20, callbacks=[early_stopping_callback])"
      ],
      "execution_count": 9,
      "outputs": [
        {
          "output_type": "stream",
          "text": [
            "Model: \"sequential_6\"\n",
            "_________________________________________________________________\n",
            "Layer (type)                 Output Shape              Param #   \n",
            "=================================================================\n",
            "conv2d_12 (Conv2D)           (None, 24, 24, 28)        728       \n",
            "_________________________________________________________________\n",
            "max_pooling2d_12 (MaxPooling (None, 12, 12, 28)        0         \n",
            "_________________________________________________________________\n",
            "conv2d_13 (Conv2D)           (None, 8, 8, 20)          14020     \n",
            "_________________________________________________________________\n",
            "max_pooling2d_13 (MaxPooling (None, 4, 4, 20)          0         \n",
            "_________________________________________________________________\n",
            "flatten_6 (Flatten)          (None, 320)               0         \n",
            "_________________________________________________________________\n",
            "dense_12 (Dense)             (None, 127)               40767     \n",
            "_________________________________________________________________\n",
            "dense_13 (Dense)             (None, 10)                1280      \n",
            "=================================================================\n",
            "Total params: 56,795\n",
            "Trainable params: 56,795\n",
            "Non-trainable params: 0\n",
            "_________________________________________________________________\n",
            "Epoch 1/20\n",
            "1875/1875 [==============================] - 47s 25ms/step - loss: 0.3267 - accuracy: 0.9025 - val_loss: 0.0472 - val_accuracy: 0.9847\n",
            "Epoch 2/20\n",
            "1875/1875 [==============================] - 47s 25ms/step - loss: 0.0504 - accuracy: 0.9841 - val_loss: 0.0415 - val_accuracy: 0.9865\n",
            "Epoch 3/20\n",
            "1875/1875 [==============================] - 46s 25ms/step - loss: 0.0344 - accuracy: 0.9897 - val_loss: 0.0357 - val_accuracy: 0.9883\n",
            "Epoch 4/20\n",
            "1875/1875 [==============================] - 46s 25ms/step - loss: 0.0284 - accuracy: 0.9912 - val_loss: 0.0293 - val_accuracy: 0.9898\n",
            "Epoch 5/20\n",
            "1875/1875 [==============================] - 47s 25ms/step - loss: 0.0217 - accuracy: 0.9924 - val_loss: 0.0305 - val_accuracy: 0.9895\n",
            "Epoch 6/20\n",
            "1875/1875 [==============================] - 47s 25ms/step - loss: 0.0181 - accuracy: 0.9939 - val_loss: 0.0297 - val_accuracy: 0.9908\n",
            "Epoch 7/20\n",
            "1875/1875 [==============================] - 47s 25ms/step - loss: 0.0125 - accuracy: 0.9960 - val_loss: 0.0286 - val_accuracy: 0.9919\n",
            "Epoch 8/20\n",
            "1875/1875 [==============================] - 47s 25ms/step - loss: 0.0119 - accuracy: 0.9964 - val_loss: 0.0396 - val_accuracy: 0.9900\n",
            "Epoch 9/20\n",
            "1875/1875 [==============================] - 47s 25ms/step - loss: 0.0106 - accuracy: 0.9965 - val_loss: 0.0449 - val_accuracy: 0.9884\n",
            "Epoch 10/20\n",
            "1875/1875 [==============================] - 47s 25ms/step - loss: 0.0096 - accuracy: 0.9965 - val_loss: 0.0360 - val_accuracy: 0.9914\n",
            "Epoch 11/20\n",
            "1875/1875 [==============================] - 46s 24ms/step - loss: 0.0059 - accuracy: 0.9982 - val_loss: 0.0408 - val_accuracy: 0.9902\n",
            "Epoch 12/20\n",
            "1875/1875 [==============================] - 46s 25ms/step - loss: 0.0062 - accuracy: 0.9980 - val_loss: 0.0489 - val_accuracy: 0.9884\n",
            "Epoch 13/20\n",
            "1875/1875 [==============================] - 47s 25ms/step - loss: 0.0067 - accuracy: 0.9977 - val_loss: 0.0482 - val_accuracy: 0.9882\n",
            "Epoch 14/20\n",
            "1875/1875 [==============================] - 47s 25ms/step - loss: 0.0067 - accuracy: 0.9977 - val_loss: 0.0578 - val_accuracy: 0.9885\n",
            "Epoch 15/20\n",
            "1875/1875 [==============================] - 47s 25ms/step - loss: 0.0055 - accuracy: 0.9983 - val_loss: 0.0452 - val_accuracy: 0.9910\n",
            "Epoch 16/20\n",
            "1875/1875 [==============================] - 47s 25ms/step - loss: 0.0047 - accuracy: 0.9983 - val_loss: 0.0376 - val_accuracy: 0.9913\n",
            "Epoch 17/20\n",
            "1875/1875 [==============================] - 47s 25ms/step - loss: 0.0037 - accuracy: 0.9987 - val_loss: 0.0512 - val_accuracy: 0.9890\n"
          ],
          "name": "stdout"
        },
        {
          "output_type": "execute_result",
          "data": {
            "text/plain": [
              "<tensorflow.python.keras.callbacks.History at 0x7facb461a390>"
            ]
          },
          "metadata": {
            "tags": []
          },
          "execution_count": 9
        }
      ]
    },
    {
      "cell_type": "code",
      "metadata": {
        "colab": {
          "base_uri": "https://localhost:8080/"
        },
        "id": "V2bRWpT9LzfC",
        "outputId": "60aefa4a-bad9-4b6d-fca9-d8bd5cd1f2d9"
      },
      "source": [
        "#evaluate model\r\n",
        "print(\"\\n Accuracy: %.4f\" % (model.evaluate(X_test, Y_test)[1]))"
      ],
      "execution_count": 10,
      "outputs": [
        {
          "output_type": "stream",
          "text": [
            "313/313 [==============================] - 2s 7ms/step - loss: 0.0512 - accuracy: 0.9890\n",
            "\n",
            " Accuracy: 0.9890\n"
          ],
          "name": "stdout"
        }
      ]
    },
    {
      "cell_type": "code",
      "metadata": {
        "id": "tldiL_rRi2iD"
      },
      "source": [
        ""
      ],
      "execution_count": null,
      "outputs": []
    }
  ]
}